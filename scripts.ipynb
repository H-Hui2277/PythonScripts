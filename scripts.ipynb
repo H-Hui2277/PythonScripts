{
 "cells": [
  {
   "cell_type": "markdown",
   "metadata": {},
   "source": [
    "# 函数计时"
   ]
  },
  {
   "cell_type": "code",
   "execution_count": 1,
   "metadata": {},
   "outputs": [],
   "source": [
    "from datetime import datetime\n",
    "\n",
    "def timing_decorator(time_format:str='%Y-%m-%d %H:%M:%S', \n",
    "                     record_start:bool=True, \n",
    "                     record_end:bool=True, \n",
    "                     record_cost:bool=True):\n",
    "    \"\"\" 返回一个装饰器函数，对函数进行计时\n",
    "    time_format: `str` 时间格式化形式\n",
    "    record_start: `bool` 是否记录开始函数开始时间\n",
    "    record_end: `bool` 是否记录函数结束时间\n",
    "    record_cost: `bool` 是否记录函数执行时间\n",
    "\n",
    "    >>> 常规用法\n",
    "    @timing_decorator():\n",
    "    def func():\n",
    "        pass\n",
    "        \n",
    "    >>> 仅记录函数用时\n",
    "    @timing_decorator(record_start=False, record_end=False)\n",
    "    def func():\n",
    "        pass\n",
    "    \"\"\"\n",
    "    def decorator(func):\n",
    "        def wrapper(*args, **kwargs):\n",
    "            start_time = datetime.now()\n",
    "            if record_start:\n",
    "                print(f\"函数 {func.__name__} 执行开始于 {start_time.strftime(time_format)}。\")\n",
    "            result = func(*args, **kwargs)\n",
    "            end_time = datetime.now()\n",
    "            if record_end:\n",
    "                print(f\"函数 {func.__name__} 执行结束于 {end_time.strftime(time_format)}。\")\n",
    "\n",
    "            # 计算执行时间\n",
    "            if record_cost:\n",
    "                execution_time = (end_time - start_time).total_seconds()\n",
    "                print(f\"函数 {func.__name__} 执行花费了 {execution_time:.2f}s。\")\n",
    "            return result\n",
    "        return wrapper\n",
    "    return decorator"
   ]
  },
  {
   "cell_type": "code",
   "execution_count": 2,
   "metadata": {},
   "outputs": [
    {
     "name": "stdout",
     "output_type": "stream",
     "text": [
      "函数 test 执行开始于 2024-05-12 16:24:46。\n",
      "函数 test 执行结束于 2024-05-12 16:24:47。\n",
      "函数 test 执行花费了 1.00s。\n"
     ]
    }
   ],
   "source": [
    "# Example\n",
    "import time\n",
    "\n",
    "@timing_decorator()\n",
    "def test():\n",
    "    for i in range(1):\n",
    "        time.sleep(1)\n",
    "test()"
   ]
  }
 ],
 "metadata": {
  "kernelspec": {
   "display_name": "Python 3",
   "language": "python",
   "name": "python3"
  },
  "language_info": {
   "codemirror_mode": {
    "name": "ipython",
    "version": 3
   },
   "file_extension": ".py",
   "mimetype": "text/x-python",
   "name": "python",
   "nbconvert_exporter": "python",
   "pygments_lexer": "ipython3",
   "version": "3.10.13"
  }
 },
 "nbformat": 4,
 "nbformat_minor": 2
}
